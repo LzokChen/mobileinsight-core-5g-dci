{
 "cells": [
  {
   "cell_type": "code",
   "execution_count": 9,
   "metadata": {},
   "outputs": [
    {
     "name": "stderr",
     "output_type": "stream",
     "text": [
      "\u001b[32m\u001b[1m[INFO]\u001b[0m\u001b[0m\u001b[1m [OfflineReplayer]\u001b[0m: Enable NR_DCI_Message\n",
      "\u001b[32m\u001b[1m[INFO]\u001b[0m\u001b[0m\u001b[1m [MsgLogger]\u001b[0m: Warning: duplicate analyzer declaration: MsgLogger\n",
      "\u001b[31m\u001b[1m[ERROR]\u001b[0m\u001b[0m\u001b[1m [MsgLogger]\u001b[0m: I/O error: [Errno 2] No such file or directory: '.test.txt'\n",
      "\u001b[32m\u001b[1m[INFO]\u001b[0m\u001b[0m\u001b[1m [NrDciAnalyzer]\u001b[0m: Warning: duplicate analyzer declaration: NrDciAnalyzer\n",
      "\u001b[32m\u001b[1m[INFO]\u001b[0m\u001b[0m\u001b[1m [OfflineReplayer]\u001b[0m: STARTED: 1667708566.213803\n"
     ]
    }
   ],
   "source": [
    "#!/usr/bin/python\n",
    "# Filename: offline-analysis-example.py\n",
    "import os\n",
    "import sys\n",
    "\n",
    "\"\"\"\n",
    "Offline analysis by replaying logs\n",
    "\"\"\"\n",
    "\n",
    "# Import MobileInsight modules\n",
    "from mobile_insight.monitor import OfflineReplayer\n",
    "from mobile_insight.analyzer import MsgLogger, NrDciAnalyzer\n",
    "\n",
    "\n",
    "# Initialize a monitor\n",
    "src = OfflineReplayer()\n",
    "src.set_input_path(\"./logs/\")\n",
    "# src.enable_log_all()\n",
    "\n",
    "src.enable_log(\"NR_DCI_Message\")\n",
    "\n",
    "logger = MsgLogger()\n",
    "logger.set_decode_format(MsgLogger.XML)\n",
    "logger.set_dump_type(MsgLogger.FILE_ONLY)\n",
    "logger.save_decoded_msg_as(\"./test.txt\")\n",
    "logger.set_source(src)\n",
    "\n",
    "# # Analyzers\n",
    "nr_dci_analyzer = NrDciAnalyzer()\n",
    "nr_dci_analyzer.set_source(src) # bind with the monitor \n",
    "\n",
    "src.run()\n",
    "\n",
    "\n",
    "#_decode_nr_dci_msg"
   ]
  }
 ],
 "metadata": {
  "kernelspec": {
   "display_name": "Python 3.9.13 ('base')",
   "language": "python",
   "name": "python3"
  },
  "language_info": {
   "codemirror_mode": {
    "name": "ipython",
    "version": 3
   },
   "file_extension": ".py",
   "mimetype": "text/x-python",
   "name": "python",
   "nbconvert_exporter": "python",
   "pygments_lexer": "ipython3",
   "version": "3.9.13"
  },
  "orig_nbformat": 4,
  "vscode": {
   "interpreter": {
    "hash": "1da1e53e799233bdf2b8fe4c5a7c843f2df07869827c7409ee241d9d27676f97"
   }
  }
 },
 "nbformat": 4,
 "nbformat_minor": 2
}
